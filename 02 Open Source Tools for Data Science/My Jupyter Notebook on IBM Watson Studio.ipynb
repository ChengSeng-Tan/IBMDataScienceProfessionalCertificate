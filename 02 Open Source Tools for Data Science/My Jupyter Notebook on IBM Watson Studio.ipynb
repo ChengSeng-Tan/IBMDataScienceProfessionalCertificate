{
 "cells": [
  {
   "cell_type": "markdown",
   "metadata": {
    "collapsed": true
   },
   "source": [
    "# My Jupyter Notebook on IBM Data Science Experience"
   ]
  },
  {
   "cell_type": "markdown",
   "metadata": {},
   "source": [
    "**Cheng Seng Tan**  \n",
    "aspirinig data scientist"
   ]
  },
  {
   "cell_type": "markdown",
   "metadata": {},
   "source": [
    "*I have always been interested in data and have design databases for application*\n",
    "*The exciting data science field offers learning opportunities of tools and techniques to explore insights from the data so that smarter business decisions can be made*\n",
    "*It is also a growing field and developers are contributing to the open-source libraries.  I like the continuous learning paradigm as it creates a dynamic state of mind*"
   ]
  },
  {
   "cell_type": "markdown",
   "metadata": {},
   "source": [
    "### My Python code below will print the numbers from 1 to 9 using a loop"
   ]
  },
  {
   "cell_type": "code",
   "execution_count": 4,
   "metadata": {},
   "outputs": [
    {
     "name": "stdout",
     "output_type": "stream",
     "text": [
      "1\n",
      "2\n",
      "3\n",
      "4\n",
      "5\n",
      "6\n",
      "7\n",
      "8\n",
      "9\n"
     ]
    }
   ],
   "source": [
    "for i in range(1,10):\n",
    "    print(i)"
   ]
  },
  {
   "cell_type": "markdown",
   "metadata": {},
   "source": [
    "Use *** to get a horizontal rule\n",
    "***\n",
    "Start bulleted list with a * or -. Bulleted listmust be separated by an empty line.\n",
    "\n",
    "* Bullet list line 1\n",
    "* Bullet list line 2\n",
    " * Which can be indented.\n",
    "\n",
    "Numbered lists start with the number followed by period.\n",
    "\n",
    "1. Lists can also be numbered. \n",
    "2. For ordered lists. \n",
    "\n",
    "[It is possible to include hyperlink](https://www.ibm.com)\n",
    "\n",
    "| Tables | Are | Cool |\n",
    "| ------------- |:-------------:| -----:|\n",
    "| col 3 is | right-aligned | 1600 |\n",
    "| col 2 is | centered | 12 |\n",
    "| zebra stripes | are neat | 1 |\n",
    "\n",
    "Adding images is easy: ![Alt text](https://nbsphinx.readthedocs.io/en/0.2.3/_images/notebook_icon.png)\n",
    "\n",
    "Blocks of code are either fenced by lines with three back-ticks  \n",
    "\n",
    "```\n",
    "javascript\n",
    "var s = \"JavaScript syntax highlighting\";\n",
    "alert(s);\n",
    "```\n",
    "\n",
    "> Blockquotes are very handy in email to emulate reply text.\n",
    "> This line is part of the same quote.\n",
    "\n",
    "Use double tildes to strikethrough ~~string~~"
   ]
  },
  {
   "cell_type": "markdown",
   "metadata": {},
   "source": []
  },
  {
   "cell_type": "code",
   "execution_count": null,
   "metadata": {},
   "outputs": [],
   "source": []
  }
 ],
 "metadata": {
  "kernelspec": {
   "display_name": "Python 3.5",
   "language": "python",
   "name": "python3"
  },
  "language_info": {
   "codemirror_mode": {
    "name": "ipython",
    "version": 3
   },
   "file_extension": ".py",
   "mimetype": "text/x-python",
   "name": "python",
   "nbconvert_exporter": "python",
   "pygments_lexer": "ipython3",
   "version": "3.5.5"
  }
 },
 "nbformat": 4,
 "nbformat_minor": 1
}
